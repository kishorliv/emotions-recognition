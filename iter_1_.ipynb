{
 "cells": [
  {
   "cell_type": "markdown",
   "metadata": {},
   "source": [
    "## This notebook will be updated after few iterations!!!"
   ]
  },
  {
   "cell_type": "code",
   "execution_count": null,
   "metadata": {},
   "outputs": [],
   "source": []
  },
  {
   "cell_type": "code",
   "execution_count": null,
   "metadata": {},
   "outputs": [],
   "source": []
  },
  {
   "cell_type": "code",
   "execution_count": null,
   "metadata": {},
   "outputs": [],
   "source": []
  },
  {
   "cell_type": "code",
   "execution_count": 1,
   "metadata": {},
   "outputs": [],
   "source": [
    "import pandas as pd\n",
    "import numpy as np\n",
    "from IPython.display import display"
   ]
  },
  {
   "cell_type": "code",
   "execution_count": 2,
   "metadata": {},
   "outputs": [
    {
     "data": {
      "text/html": [
       "<div>\n",
       "<style scoped>\n",
       "    .dataframe tbody tr th:only-of-type {\n",
       "        vertical-align: middle;\n",
       "    }\n",
       "\n",
       "    .dataframe tbody tr th {\n",
       "        vertical-align: top;\n",
       "    }\n",
       "\n",
       "    .dataframe thead th {\n",
       "        text-align: right;\n",
       "    }\n",
       "</style>\n",
       "<table border=\"1\" class=\"dataframe\">\n",
       "  <thead>\n",
       "    <tr style=\"text-align: right;\">\n",
       "      <th></th>\n",
       "      <th>emotion</th>\n",
       "      <th>pixels</th>\n",
       "      <th>Usage</th>\n",
       "    </tr>\n",
       "  </thead>\n",
       "  <tbody>\n",
       "    <tr>\n",
       "      <th>30699</th>\n",
       "      <td>2</td>\n",
       "      <td>32 45 58 62 63 46 35 46 60 79 98 115 131 143 1...</td>\n",
       "      <td>PublicTest</td>\n",
       "    </tr>\n",
       "    <tr>\n",
       "      <th>994</th>\n",
       "      <td>2</td>\n",
       "      <td>242 250 154 76 80 69 57 53 50 59 55 45 46 49 5...</td>\n",
       "      <td>Training</td>\n",
       "    </tr>\n",
       "    <tr>\n",
       "      <th>14782</th>\n",
       "      <td>4</td>\n",
       "      <td>74 74 75 76 76 74 78 60 34 33 25 25 23 21 22 2...</td>\n",
       "      <td>Training</td>\n",
       "    </tr>\n",
       "    <tr>\n",
       "      <th>35781</th>\n",
       "      <td>6</td>\n",
       "      <td>80 80 80 82 83 84 81 83 83 64 27 28 34 8 3 3 3...</td>\n",
       "      <td>PrivateTest</td>\n",
       "    </tr>\n",
       "    <tr>\n",
       "      <th>19217</th>\n",
       "      <td>0</td>\n",
       "      <td>238 238 242 147 155 191 200 199 199 204 208 21...</td>\n",
       "      <td>Training</td>\n",
       "    </tr>\n",
       "    <tr>\n",
       "      <th>21731</th>\n",
       "      <td>0</td>\n",
       "      <td>171 170 171 170 169 165 166 166 162 160 160 15...</td>\n",
       "      <td>Training</td>\n",
       "    </tr>\n",
       "    <tr>\n",
       "      <th>26780</th>\n",
       "      <td>6</td>\n",
       "      <td>74 71 88 88 66 67 91 70 64 73 77 74 76 77 84 8...</td>\n",
       "      <td>Training</td>\n",
       "    </tr>\n",
       "    <tr>\n",
       "      <th>20021</th>\n",
       "      <td>3</td>\n",
       "      <td>73 74 75 75 101 126 150 172 181 161 151 153 15...</td>\n",
       "      <td>Training</td>\n",
       "    </tr>\n",
       "    <tr>\n",
       "      <th>28067</th>\n",
       "      <td>6</td>\n",
       "      <td>218 219 221 222 223 222 228 207 91 13 15 14 14...</td>\n",
       "      <td>Training</td>\n",
       "    </tr>\n",
       "    <tr>\n",
       "      <th>1797</th>\n",
       "      <td>5</td>\n",
       "      <td>25 40 26 38 42 16 19 71 75 78 119 107 123 137 ...</td>\n",
       "      <td>Training</td>\n",
       "    </tr>\n",
       "  </tbody>\n",
       "</table>\n",
       "</div>"
      ],
      "text/plain": [
       "       emotion                                             pixels        Usage\n",
       "30699        2  32 45 58 62 63 46 35 46 60 79 98 115 131 143 1...   PublicTest\n",
       "994          2  242 250 154 76 80 69 57 53 50 59 55 45 46 49 5...     Training\n",
       "14782        4  74 74 75 76 76 74 78 60 34 33 25 25 23 21 22 2...     Training\n",
       "35781        6  80 80 80 82 83 84 81 83 83 64 27 28 34 8 3 3 3...  PrivateTest\n",
       "19217        0  238 238 242 147 155 191 200 199 199 204 208 21...     Training\n",
       "21731        0  171 170 171 170 169 165 166 166 162 160 160 15...     Training\n",
       "26780        6  74 71 88 88 66 67 91 70 64 73 77 74 76 77 84 8...     Training\n",
       "20021        3  73 74 75 75 101 126 150 172 181 161 151 153 15...     Training\n",
       "28067        6  218 219 221 222 223 222 228 207 91 13 15 14 14...     Training\n",
       "1797         5  25 40 26 38 42 16 19 71 75 78 119 107 123 137 ...     Training"
      ]
     },
     "metadata": {},
     "output_type": "display_data"
    },
    {
     "name": "stdout",
     "output_type": "stream",
     "text": [
      "<class 'pandas.core.frame.DataFrame'>\n",
      "RangeIndex: 35887 entries, 0 to 35886\n",
      "Data columns (total 3 columns):\n",
      "emotion    35887 non-null int64\n",
      "pixels     35887 non-null object\n",
      "Usage      35887 non-null object\n",
      "dtypes: int64(1), object(2)\n",
      "memory usage: 841.2+ KB\n"
     ]
    },
    {
     "data": {
      "text/plain": [
       "None"
      ]
     },
     "metadata": {},
     "output_type": "display_data"
    }
   ],
   "source": [
    "# loading the fec13 dataset    \n",
    "df = pd.read_csv('data/fer2013/fer2013.csv', sep=',')\n",
    "\n",
    "df_original = df.copy(deep=True)\n",
    "\n",
    "display(df.sample(10))\n",
    "display(df.info())"
   ]
  },
  {
   "cell_type": "code",
   "execution_count": 3,
   "metadata": {},
   "outputs": [
    {
     "data": {
      "text/plain": [
       "Training       28709\n",
       "PrivateTest     3589\n",
       "PublicTest      3589\n",
       "Name: Usage, dtype: int64"
      ]
     },
     "execution_count": 3,
     "metadata": {},
     "output_type": "execute_result"
    }
   ],
   "source": [
    "df['Usage'].value_counts()"
   ]
  },
  {
   "cell_type": "code",
   "execution_count": 4,
   "metadata": {},
   "outputs": [
    {
     "data": {
      "text/plain": [
       "array([5, 6, 7])"
      ]
     },
     "execution_count": 4,
     "metadata": {},
     "output_type": "execute_result"
    }
   ],
   "source": [
    "a = np.array([5,6,7])\n",
    "a"
   ]
  },
  {
   "cell_type": "code",
   "execution_count": 5,
   "metadata": {
    "scrolled": true
   },
   "outputs": [
    {
     "name": "stderr",
     "output_type": "stream",
     "text": [
      "/home/kishor/anaconda3/lib/python3.6/site-packages/ipykernel_launcher.py:9: SettingWithCopyWarning: \n",
      "A value is trying to be set on a copy of a slice from a DataFrame\n",
      "\n",
      "See the caveats in the documentation: http://pandas.pydata.org/pandas-docs/stable/indexing.html#indexing-view-versus-copy\n",
      "  if __name__ == '__main__':\n"
     ]
    },
    {
     "data": {
      "text/html": [
       "<div>\n",
       "<style scoped>\n",
       "    .dataframe tbody tr th:only-of-type {\n",
       "        vertical-align: middle;\n",
       "    }\n",
       "\n",
       "    .dataframe tbody tr th {\n",
       "        vertical-align: top;\n",
       "    }\n",
       "\n",
       "    .dataframe thead th {\n",
       "        text-align: right;\n",
       "    }\n",
       "</style>\n",
       "<table border=\"1\" class=\"dataframe\">\n",
       "  <thead>\n",
       "    <tr style=\"text-align: right;\">\n",
       "      <th></th>\n",
       "      <th>emotion</th>\n",
       "      <th>pixels</th>\n",
       "    </tr>\n",
       "  </thead>\n",
       "  <tbody>\n",
       "    <tr>\n",
       "      <th>16979</th>\n",
       "      <td>6</td>\n",
       "      <td>[106, 105, 102, 107, 113, 116, 121, 126, 125, ...</td>\n",
       "    </tr>\n",
       "    <tr>\n",
       "      <th>11372</th>\n",
       "      <td>5</td>\n",
       "      <td>[210, 214, 208, 215, 218, 220, 206, 183, 164, ...</td>\n",
       "    </tr>\n",
       "    <tr>\n",
       "      <th>19423</th>\n",
       "      <td>0</td>\n",
       "      <td>[94, 91, 77, 66, 56, 53, 51, 45, 47, 49, 40, 4...</td>\n",
       "    </tr>\n",
       "    <tr>\n",
       "      <th>21945</th>\n",
       "      <td>4</td>\n",
       "      <td>[31, 61, 123, 127, 131, 135, 138, 140, 136, 13...</td>\n",
       "    </tr>\n",
       "    <tr>\n",
       "      <th>16813</th>\n",
       "      <td>5</td>\n",
       "      <td>[57, 67, 81, 73, 5, 5, 10, 30, 34, 25, 37, 73,...</td>\n",
       "    </tr>\n",
       "  </tbody>\n",
       "</table>\n",
       "</div>"
      ],
      "text/plain": [
       "       emotion                                             pixels\n",
       "16979        6  [106, 105, 102, 107, 113, 116, 121, 126, 125, ...\n",
       "11372        5  [210, 214, 208, 215, 218, 220, 206, 183, 164, ...\n",
       "19423        0  [94, 91, 77, 66, 56, 53, 51, 45, 47, 49, 40, 4...\n",
       "21945        4  [31, 61, 123, 127, 131, 135, 138, 140, 136, 13...\n",
       "16813        5  [57, 67, 81, 73, 5, 5, 10, 30, 34, 25, 37, 73,..."
      ]
     },
     "execution_count": 5,
     "metadata": {},
     "output_type": "execute_result"
    }
   ],
   "source": [
    "df_train = df.loc[df['Usage'] == 'Training']\n",
    "df_train = df_train.drop(columns=['Usage'])\n",
    "\n",
    "m = df_train['pixels'][10]\n",
    "\n",
    "x = np.fromstring(m, dtype=int, sep=' ')\n",
    "\n",
    "for i in range(df_train.shape[0]):\n",
    "    df_train['pixels'][i] = np.fromstring(df_train['pixels'][i], dtype=int, sep=' ')\n",
    "\n",
    "#df_test = df.loc[df['Usage'] == 'PublicTest']\n",
    "\n",
    "#display(df_train.sample(5))\n",
    "#display(df_train.info())\n",
    "#display(df_test.sample(5))\n",
    "#display(df_test.info())\n",
    "\n",
    "df_train.sample(5)\n"
   ]
  }
 ],
 "metadata": {
  "kernelspec": {
   "display_name": "Python 3",
   "language": "python",
   "name": "python3"
  },
  "language_info": {
   "codemirror_mode": {
    "name": "ipython",
    "version": 3
   },
   "file_extension": ".py",
   "mimetype": "text/x-python",
   "name": "python",
   "nbconvert_exporter": "python",
   "pygments_lexer": "ipython3",
   "version": "3.6.6"
  }
 },
 "nbformat": 4,
 "nbformat_minor": 2
}
