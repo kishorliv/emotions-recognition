{
 "cells": [
  {
   "cell_type": "markdown",
   "metadata": {},
   "source": [
    "## Objective\n",
    "- Apply transfer learning using resnet50 model.\n",
    "<br>Here, we will make our own fully connected layer on top of resnet50 cnn layers."
   ]
  },
  {
   "cell_type": "code",
   "execution_count": null,
   "metadata": {},
   "outputs": [],
   "source": [
    "from tensorflow.python.keras.applications import ResNet50\n",
    "from tensorflow.python.keras.models import Sequential\n",
    "from tensorflow.python.keras.layers import Dense, Flatten, GlobalAveragePooling2D"
   ]
  },
  {
   "cell_type": "markdown",
   "metadata": {},
   "source": [
    "### Setup data"
   ]
  },
  {
   "cell_type": "code",
   "execution_count": null,
   "metadata": {},
   "outputs": [],
   "source": [
    "num_classes = 2 # number of target classes\n",
    "resnet_weights_path = 'data/resnet50/resnet50_weights_tf_dim_ordering_tf_kernels.h5'\n",
    "\n",
    "model = Sequential() # to make a sequential model in keras\n",
    "model.add(ResNet50(include_top=False, pooling='avg', weights=resnet_weights_path)) #add resnet model and remove its top fully connected layer\n",
    "model.add(Dense(num_classes, activation='softmax')) # add our own neural network for prediction\n",
    "\n",
    "model.layers[0].trainable = False # not to train the resnet model layers(already trained)"
   ]
  }
 ],
 "metadata": {
  "kernelspec": {
   "display_name": "Python 3",
   "language": "python",
   "name": "python3"
  },
  "language_info": {
   "codemirror_mode": {
    "name": "ipython",
    "version": 3
   },
   "file_extension": ".py",
   "mimetype": "text/x-python",
   "name": "python",
   "nbconvert_exporter": "python",
   "pygments_lexer": "ipython3",
   "version": "3.6.6"
  }
 },
 "nbformat": 4,
 "nbformat_minor": 2
}
